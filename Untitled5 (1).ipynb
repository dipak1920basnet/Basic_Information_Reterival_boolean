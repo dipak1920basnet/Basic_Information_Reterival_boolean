{
  "nbformat": 4,
  "nbformat_minor": 0,
  "metadata": {
    "colab": {
      "provenance": []
    },
    "kernelspec": {
      "name": "python3",
      "display_name": "Python 3"
    },
    "language_info": {
      "name": "python"
    }
  },
  "cells": [
    {
      "cell_type": "code",
      "execution_count": 1,
      "metadata": {
        "id": "E8QfVwKeE0CC"
      },
      "outputs": [],
      "source": [
        "import os"
      ]
    },
    {
      "source": [
        "def import_documents(directory):\n",
        "    documents = []\n",
        "    if os.path.isfile(directory):\n",
        "        if directory.endswith(\".txt\"):\n",
        "            with open(directory, 'r', encoding='utf-8') as file:\n",
        "                documents.append(file.read())\n",
        "    elif os.path.isdir(directory):\n",
        "        for filename in os.listdir(directory):\n",
        "            if filename.endswith(\".txt\"):\n",
        "                with open(os.path.join(directory, filename), 'r', encoding='utf-8') as file:\n",
        "                    documents.append(file.read())\n",
        "    return documents\n",
        "\n",
        "documents = import_documents(\"/content/sample.txt\")\n",
        "print(f\"Imported {len(documents)} documents.\")"
      ],
      "cell_type": "code",
      "metadata": {
        "colab": {
          "base_uri": "https://localhost:8080/"
        },
        "id": "AnkqQHtTFOM7",
        "outputId": "a575dcf7-a4f4-4f7b-9105-47caf4dffc52"
      },
      "execution_count": 5,
      "outputs": [
        {
          "output_type": "stream",
          "name": "stdout",
          "text": [
            "Imported 1 documents.\n"
          ]
        }
      ]
    },
    {
      "cell_type": "code",
      "source": [
        "import nltk\n",
        "from nltk.tokenize import word_tokenize\n",
        "from nltk.stem import PorterStemmer\n",
        "from collections import defaultdict\n",
        "\n",
        "nltk.download('punkt')\n",
        "stemmer = PorterStemmer()\n",
        "\n",
        "def preprocess_document(doc):\n",
        "    tokens = word_tokenize(doc.lower())\n",
        "    tokens = [stemmer.stem(word) for word in tokens if word.isalnum()]\n",
        "    return tokens\n"
      ],
      "metadata": {
        "colab": {
          "base_uri": "https://localhost:8080/"
        },
        "id": "AB1BA-iVE-LX",
        "outputId": "5c919d3e-17e7-4591-a57b-c6d0c74c0b63"
      },
      "execution_count": 6,
      "outputs": [
        {
          "output_type": "stream",
          "name": "stderr",
          "text": [
            "[nltk_data] Downloading package punkt to /root/nltk_data...\n",
            "[nltk_data]   Unzipping tokenizers/punkt.zip.\n"
          ]
        }
      ]
    },
    {
      "cell_type": "code",
      "source": [
        "def create_dictionary(documents):\n",
        "    dictionary = set()\n",
        "    for doc in documents:\n",
        "        tokens = preprocess_document(doc)\n",
        "        dictionary.update(tokens)\n",
        "    return dictionary\n",
        "dictionary = create_dictionary(documents)\n",
        "print(\"Dictionary:\", dictionary)\n"
      ],
      "metadata": {
        "colab": {
          "base_uri": "https://localhost:8080/"
        },
        "id": "4vVcSLDmFgGO",
        "outputId": "387b8b1b-5965-420d-f71f-5ac904729757"
      },
      "execution_count": 10,
      "outputs": [
        {
          "output_type": "stream",
          "name": "stdout",
          "text": [
            "Dictionary: {'wa', 'it', 'everyth', 'anker', 'our', 'wish', 'amazon', 'travel', 'even', '031', 'import', 'them', 'drain', 'click', 'depart', 'all', '1h', 'song', 'think', 'offlicens', 'my', '105853', '105860', 'suck', 'properli', 'doe', 'bye', 'thing', 'okay', 'onc', 'speed', 'same', '105851', 'as', 'anyth', 'free', 'number', 'know', 'great', 'livechat', 'companion', 'drop', 'again', 'suddenli', 'printhead', 'pleas', 'be', 'laptop', 'addit', 'nudg', 'custom', 'both', '105843', 'cheer', 'system', '76099', 'reschedul', 'respond', 'zip', 'direct', 'love', 'come', 'regard', 'load', 'welcom', 'get', 'beg', 'by', 'just', 'colleagu', 'half', 'distanc', 'let', '105848', 'paus', 'shout', 'type', 'like', 'sever', 'full', 'new', 'page', 'cooki', 'mayb', 'shortli', 'make', 'updat', 'tri', 'some', '25', 'agoura', 'restart', 'ago', 'macbook', 'befor', 'i', 'cumbersom', 'tomorrow', 'unlik', 'poor', 'sierra', 'sale', 'refund', 'off', 'basket', 'wo', 'life', 'a', 'is', 'look', 'paralys', 'hit', 'person', 'deliv', 'solut', 'cabl', 'beatner', 'helena', 'grrrrrrrrrr', 'appreci', '105857', '2', 'challeng', 'avoid', 'over', 'situat', 'horribl', '76328', 'reopen', '105842', 'broken', 'minut', '91226', 'tell', 'find', 'part', 'msg', 'wtf', 'kilo', 'dm', 'email', 'galaxi', 'enough', '99', 'lay', 'immedi', 'there', 'southwestair', 'speaker', 'hour', 'premium', 'work', 'day', 'keen', 'eye', 'underag', 'bit', 'give', 'tablet', 'lee', 'thin', 'within', 'week', 'and', 'stage', 'old', 'remain', 'onlin', 'alcohol', 'out', 'caus', 'jump', 'articl', 'tab', 'xfiniti', 'amp', 'so', 'the', 'item', 'struggl', 'further', 'recd', 'bug', 'unless', 'neighborhood', 'applesupport', 'play', '76501', 'iphone6', 'into', '82476', 'ok', 'past', 'frustrat', 'flight', 'sign', 'armv7', 'disgrac', 'answer', 'tesco', 'notif', 'internet', 'sinc', 'ani', 'bluetooth', 'brilliant', '105847', 'if', '6', 'leav', 'see', 'cross', '76495', 'ios11upd', 'disconnect', 'layout', 'or', 'spotifycar', 'possibl', 'sux', 'experienc', 'affect', 'which', 'heard', 'ask', 'choic', 'spotifi', 'aircraft', 'thank', 'ha', 'frequent', 'pretti', 'huge', 'ship', 'miriam', 'when', '35', 'batteri', 'moment', 'detail', 'need', 'mo', 'talkin', '105846', 'rebook', 'care', '105861', 'correct', 'judg', 'on', 'your', 'finger', 'reinstal', 'refer', 'that', 'assist', 'http', 'close', 'happen', 'everi', 'chat', 'chang', 'delay', 'sent', 'now', 'me', 'yep', 'protect', 'anoth', 'suffer', 'no', 'android', 'wait', 'hey', 'can', 'address', 'delet', 'websit', 'should', 'th536d1hn', 'at', '03331', 'whatsapp', 'repli', 'samsung', 'high', 'kind', 'what', 'pass', 'took', '105849', 'deliveri', 'help', 'flatter', 'game', '105676', 'io', 'sprint', 'point', 'hi', 'info', 'last', 'done', '105840', 'keyboard', 'warn', 'browser', '105850', 'five', 'few', 'prove', 'for', 'move', 'go', 'away', 'attach', 'receiv', 'fix', 'plu', 'kill', 'happi', 'particular', 'constantli', 'slow', 'harri', 'oper', 'month', 'are', 'up', 'error', 'hope', '105856', 'locat', 'appl', 'gt', 'disregard', 'busi', 'mean', '3', 'curiou', 'yard', 'slot', 'almost', 'keep', 'have', 'guess', 'behavior', 'provid', 'run', 'current', 'next', 'link', 'but', 'post', 'account', 'than', 'most', 'shit', 'hate', 'follow', 'notic', 'matter', 'got', 'age', 'still', 'ios1102', 'sara', 'line', 'also', 'after', 'veri', 'virgintrain', 'believ', 'use', 'allow', 'green', 'step', 'statu', 'model', 'togeth', 'with', 'coaxial', 'team', 'remov', 'hire', '105855', 'midway', 'sam', 'mani', 'uk', 'gener', 'differ', 'dead', 'lose', 'did', 'freez', 'without', 'soon', '77245', 'from', 'where', 'set', 'turn', 'voicemail', 'take', 'shop', '2014', 'onsit', 'reach', 'problem', 'other', 'of', 'sort', 'devic', 'solv', 'about', 'inform', '105841', 'law', 'thoma', 'join', 'time', 'log', 'these', 'broadsid', '10', 'then', 'earli', 'us', 'congrat', 'they', 'hear', 'els', 'mess', 'how', 'charg', 'mike', 'iphon', 'departur', 'wifi', 'buy', '105845', 'option', '12', '105858', 'do', 'start', 'here', '2016', 'exact', 'chri', 'too', 'will', 'tempt', 'sv', 'under', '60', '105839', '1', 'long', 'crash', 'short', '7plu', 'tweet', '4h', 'paig', 'issu', 'been', 'we', 'virtual', 'messag', 'hpcswu', '8', 'send', 'ass', 'advis', 'whatsoev', '18', 'understand', '105859', 'more', '105844', 'ba8733', 'in', '105838', 'alway', '105854', 'specif', 'o2', 'carri', 'am', '105836', 'sure', 'through', 'store', 'stop', 'not', 'first', 'down', 'request', 'an', 'becaus', 'amanda', 'id', 'experi', 'lot', 'ty', 'air', 'could', 'check', 'code', 'listen', 'inconveni', 'enforc', 'concern', 'metr', 'latest', 'live', 'realli', 'super', 'today', 'min', 'call', 'seem', 'servic', 'plz', 'prior', '105835', 'version', 'includ', 'you', 'fave', 'phone', 'painfulupd', '105852', 'to', 'read', 'end', 'music', 'adnam', 'contact', 'serial', 'fuck', '40', 'skip', 'sorri', 'percent', 'name', 'one', '76803', 'slightli', 'app', '4', 'who', 'had', 'playback', 'someon', 'blind', 'respons', 'telemarket', 'thi', 'dani', 'tap', 'packag', 'hpprnt', 'polici', 'cach', 'hpsupport', '105837', 'slowdown', 'back'}\n"
          ]
        }
      ]
    },
    {
      "cell_type": "code",
      "source": [
        "def create_inverted_index(documents, dictionary):\n",
        "    inverted_index = defaultdict(list)\n",
        "    for idx, doc in enumerate(documents):\n",
        "        tokens = preprocess_document(doc)\n",
        "        for token in set(tokens):\n",
        "            if token in dictionary:\n",
        "                inverted_index[token].append(idx)\n",
        "    return inverted_index\n",
        "inverted_index = create_inverted_index(documents, dictionary)\n",
        "print(\"Inverted Index:\", dict(inverted_index))\n"
      ],
      "metadata": {
        "colab": {
          "base_uri": "https://localhost:8080/"
        },
        "id": "Zgola23hFmji",
        "outputId": "4c86499a-cb92-42aa-a7c7-3b0a255812aa"
      },
      "execution_count": 8,
      "outputs": [
        {
          "output_type": "stream",
          "name": "stdout",
          "text": [
            "Inverted Index: {'wa': [0], 'it': [0], 'everyth': [0], 'anker': [0], 'our': [0], 'wish': [0], 'amazon': [0], 'travel': [0], 'even': [0], '031': [0], 'import': [0], 'them': [0], 'drain': [0], 'click': [0], 'depart': [0], 'all': [0], '1h': [0], 'song': [0], 'think': [0], 'offlicens': [0], 'my': [0], '105853': [0], '105860': [0], 'suck': [0], 'properli': [0], 'doe': [0], 'bye': [0], 'thing': [0], 'okay': [0], 'onc': [0], 'speed': [0], 'same': [0], '105851': [0], 'as': [0], 'anyth': [0], 'free': [0], 'number': [0], 'know': [0], 'great': [0], 'livechat': [0], 'companion': [0], 'drop': [0], 'again': [0], 'suddenli': [0], 'printhead': [0], 'pleas': [0], 'be': [0], 'laptop': [0], 'addit': [0], 'nudg': [0], 'custom': [0], 'both': [0], '105843': [0], 'cheer': [0], 'system': [0], '76099': [0], 'reschedul': [0], 'respond': [0], 'zip': [0], 'direct': [0], 'love': [0], 'come': [0], 'regard': [0], 'load': [0], 'welcom': [0], 'get': [0], 'beg': [0], 'by': [0], 'just': [0], 'colleagu': [0], 'half': [0], 'distanc': [0], 'let': [0], '105848': [0], 'paus': [0], 'shout': [0], 'type': [0], 'like': [0], 'sever': [0], 'full': [0], 'new': [0], 'page': [0], 'cooki': [0], 'mayb': [0], 'shortli': [0], 'make': [0], 'updat': [0], 'tri': [0], 'some': [0], '25': [0], 'agoura': [0], 'restart': [0], 'ago': [0], 'macbook': [0], 'befor': [0], 'i': [0], 'cumbersom': [0], 'tomorrow': [0], 'unlik': [0], 'poor': [0], 'sierra': [0], 'sale': [0], 'refund': [0], 'off': [0], 'basket': [0], 'wo': [0], 'life': [0], 'a': [0], 'is': [0], 'look': [0], 'paralys': [0], 'hit': [0], 'person': [0], 'deliv': [0], 'solut': [0], 'cabl': [0], 'beatner': [0], 'helena': [0], 'grrrrrrrrrr': [0], 'appreci': [0], '105857': [0], '2': [0], 'challeng': [0], 'avoid': [0], 'over': [0], 'situat': [0], 'horribl': [0], '76328': [0], 'reopen': [0], '105842': [0], 'broken': [0], 'minut': [0], '91226': [0], 'tell': [0], 'find': [0], 'part': [0], 'msg': [0], 'wtf': [0], 'kilo': [0], 'dm': [0], 'email': [0], 'galaxi': [0], 'enough': [0], '99': [0], 'lay': [0], 'immedi': [0], 'there': [0], 'southwestair': [0], 'speaker': [0], 'hour': [0], 'premium': [0], 'work': [0], 'day': [0], 'keen': [0], 'eye': [0], 'underag': [0], 'bit': [0], 'give': [0], 'tablet': [0], 'lee': [0], 'thin': [0], 'within': [0], 'week': [0], 'and': [0], 'stage': [0], 'old': [0], 'remain': [0], 'onlin': [0], 'alcohol': [0], 'out': [0], 'caus': [0], 'jump': [0], 'articl': [0], 'tab': [0], 'xfiniti': [0], 'amp': [0], 'so': [0], 'the': [0], 'item': [0], 'struggl': [0], 'further': [0], 'recd': [0], 'bug': [0], 'unless': [0], 'neighborhood': [0], 'applesupport': [0], 'play': [0], '76501': [0], 'iphone6': [0], 'into': [0], '82476': [0], 'ok': [0], 'past': [0], 'frustrat': [0], 'flight': [0], 'sign': [0], 'armv7': [0], 'disgrac': [0], 'answer': [0], 'tesco': [0], 'notif': [0], 'internet': [0], 'sinc': [0], 'ani': [0], 'bluetooth': [0], 'brilliant': [0], '105847': [0], 'if': [0], '6': [0], 'leav': [0], 'see': [0], 'cross': [0], '76495': [0], 'ios11upd': [0], 'disconnect': [0], 'layout': [0], 'or': [0], 'spotifycar': [0], 'possibl': [0], 'sux': [0], 'experienc': [0], 'affect': [0], 'which': [0], 'heard': [0], 'ask': [0], 'choic': [0], 'spotifi': [0], 'aircraft': [0], 'thank': [0], 'ha': [0], 'frequent': [0], 'pretti': [0], 'huge': [0], 'ship': [0], 'miriam': [0], 'when': [0], '35': [0], 'batteri': [0], 'moment': [0], 'detail': [0], 'need': [0], 'mo': [0], 'talkin': [0], '105846': [0], 'rebook': [0], 'care': [0], '105861': [0], 'correct': [0], 'judg': [0], 'on': [0], 'your': [0], 'finger': [0], 'reinstal': [0], 'refer': [0], 'that': [0], 'assist': [0], 'http': [0], 'close': [0], 'happen': [0], 'everi': [0], 'chat': [0], 'chang': [0], 'delay': [0], 'sent': [0], 'now': [0], 'me': [0], 'yep': [0], 'protect': [0], 'anoth': [0], 'suffer': [0], 'no': [0], 'android': [0], 'wait': [0], 'hey': [0], 'can': [0], 'address': [0], 'delet': [0], 'websit': [0], 'should': [0], 'th536d1hn': [0], 'at': [0], '03331': [0], 'whatsapp': [0], 'repli': [0], 'samsung': [0], 'high': [0], 'kind': [0], 'what': [0], 'pass': [0], 'took': [0], '105849': [0], 'deliveri': [0], 'help': [0], 'flatter': [0], 'game': [0], '105676': [0], 'io': [0], 'sprint': [0], 'point': [0], 'hi': [0], 'info': [0], 'last': [0], 'done': [0], '105840': [0], 'keyboard': [0], 'warn': [0], 'browser': [0], '105850': [0], 'five': [0], 'few': [0], 'prove': [0], 'for': [0], 'move': [0], 'go': [0], 'away': [0], 'attach': [0], 'receiv': [0], 'fix': [0], 'plu': [0], 'kill': [0], 'happi': [0], 'particular': [0], 'constantli': [0], 'slow': [0], 'harri': [0], 'oper': [0], 'month': [0], 'are': [0], 'up': [0], 'error': [0], 'hope': [0], '105856': [0], 'locat': [0], 'appl': [0], 'gt': [0], 'disregard': [0], 'busi': [0], 'mean': [0], '3': [0], 'curiou': [0], 'yard': [0], 'slot': [0], 'almost': [0], 'keep': [0], 'have': [0], 'guess': [0], 'behavior': [0], 'provid': [0], 'run': [0], 'current': [0], 'next': [0], 'link': [0], 'but': [0], 'post': [0], 'account': [0], 'than': [0], 'most': [0], 'shit': [0], 'hate': [0], 'follow': [0], 'notic': [0], 'matter': [0], 'got': [0], 'age': [0], 'still': [0], 'ios1102': [0], 'sara': [0], 'line': [0], 'also': [0], 'after': [0], 'veri': [0], 'virgintrain': [0], 'believ': [0], 'use': [0], 'allow': [0], 'green': [0], 'step': [0], 'statu': [0], 'model': [0], 'togeth': [0], 'with': [0], 'coaxial': [0], 'team': [0], 'remov': [0], 'hire': [0], '105855': [0], 'midway': [0], 'sam': [0], 'mani': [0], 'uk': [0], 'gener': [0], 'differ': [0], 'dead': [0], 'lose': [0], 'did': [0], 'freez': [0], 'without': [0], 'soon': [0], '77245': [0], 'from': [0], 'where': [0], 'set': [0], 'turn': [0], 'voicemail': [0], 'take': [0], 'shop': [0], '2014': [0], 'onsit': [0], 'reach': [0], 'problem': [0], 'other': [0], 'of': [0], 'sort': [0], 'devic': [0], 'solv': [0], 'about': [0], 'inform': [0], '105841': [0], 'law': [0], 'thoma': [0], 'join': [0], 'time': [0], 'log': [0], 'these': [0], 'broadsid': [0], '10': [0], 'then': [0], 'earli': [0], 'us': [0], 'congrat': [0], 'they': [0], 'hear': [0], 'els': [0], 'mess': [0], 'how': [0], 'charg': [0], 'mike': [0], 'iphon': [0], 'departur': [0], 'wifi': [0], 'buy': [0], '105845': [0], 'option': [0], '12': [0], '105858': [0], 'do': [0], 'start': [0], 'here': [0], '2016': [0], 'exact': [0], 'chri': [0], 'too': [0], 'will': [0], 'tempt': [0], 'sv': [0], 'under': [0], '60': [0], '105839': [0], '1': [0], 'long': [0], 'crash': [0], 'short': [0], '7plu': [0], 'tweet': [0], '4h': [0], 'paig': [0], 'issu': [0], 'been': [0], 'we': [0], 'virtual': [0], 'messag': [0], 'hpcswu': [0], '8': [0], 'send': [0], 'ass': [0], 'advis': [0], 'whatsoev': [0], '18': [0], 'understand': [0], '105859': [0], 'more': [0], '105844': [0], 'ba8733': [0], 'in': [0], '105838': [0], 'alway': [0], '105854': [0], 'specif': [0], 'o2': [0], 'carri': [0], 'am': [0], '105836': [0], 'sure': [0], 'through': [0], 'store': [0], 'stop': [0], 'not': [0], 'first': [0], 'down': [0], 'request': [0], 'an': [0], 'becaus': [0], 'amanda': [0], 'id': [0], 'experi': [0], 'lot': [0], 'ty': [0], 'air': [0], 'could': [0], 'check': [0], 'code': [0], 'listen': [0], 'inconveni': [0], 'enforc': [0], 'concern': [0], 'metr': [0], 'latest': [0], 'live': [0], 'realli': [0], 'super': [0], 'today': [0], 'min': [0], 'call': [0], 'seem': [0], 'servic': [0], 'plz': [0], 'prior': [0], '105835': [0], 'version': [0], 'includ': [0], 'you': [0], 'fave': [0], 'phone': [0], 'painfulupd': [0], '105852': [0], 'to': [0], 'read': [0], 'end': [0], 'music': [0], 'adnam': [0], 'contact': [0], 'serial': [0], 'fuck': [0], '40': [0], 'skip': [0], 'sorri': [0], 'percent': [0], 'name': [0], 'one': [0], '76803': [0], 'slightli': [0], 'app': [0], '4': [0], 'who': [0], 'had': [0], 'playback': [0], 'someon': [0], 'blind': [0], 'respons': [0], 'telemarket': [0], 'thi': [0], 'dani': [0], 'tap': [0], 'packag': [0], 'hpprnt': [0], 'polici': [0], 'cach': [0], 'hpsupport': [0], '105837': [0], 'slowdown': [0], 'back': [0]}\n"
          ]
        }
      ]
    },
    {
      "cell_type": "code",
      "source": [
        "def boolean_and(term1, term2, inverted_index):\n",
        "    return list(set(inverted_index.get(term1, [])) & set(inverted_index.get(term2, [])))\n",
        "\n",
        "def boolean_or(term1, term2, inverted_index):\n",
        "    return list(set(inverted_index.get(term1, [])) | set(inverted_index.get(term2, [])))\n",
        "\n",
        "def boolean_not(term, inverted_index, total_docs):\n",
        "    return list(set(range(total_docs)) - set(inverted_index.get(term, [])))\n",
        "print(\"AND Query ('inform', 'retriev'):\", boolean_and('inform', 'retriev', inverted_index))\n",
        "print(\"OR Query ('inform', 'data'):\", boolean_or('inform', 'data', inverted_index))\n",
        "print(\"NOT Query ('retriev'):\", boolean_not('retriev', inverted_index, len(documents)))\n"
      ],
      "metadata": {
        "colab": {
          "base_uri": "https://localhost:8080/"
        },
        "id": "aoskQU4tFvY1",
        "outputId": "261202eb-3171-400e-f75b-65ca878ea2e2"
      },
      "execution_count": 9,
      "outputs": [
        {
          "output_type": "stream",
          "name": "stdout",
          "text": [
            "AND Query ('inform', 'retriev'): []\n",
            "OR Query ('inform', 'data'): [0]\n",
            "NOT Query ('retriev'): [0]\n"
          ]
        }
      ]
    },
    {
      "cell_type": "code",
      "source": [],
      "metadata": {
        "id": "QlR5MB-EF3hr"
      },
      "execution_count": null,
      "outputs": []
    }
  ]
}